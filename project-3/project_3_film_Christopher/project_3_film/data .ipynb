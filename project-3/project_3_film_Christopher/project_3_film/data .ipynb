{
 "cells": [
  {
   "cell_type": "code",
   "execution_count": 1,
   "metadata": {},
   "outputs": [],
   "source": [
    "import pandas as pd\n",
    "import os\n",
    "import csv "
   ]
  },
  {
   "cell_type": "code",
   "execution_count": 2,
   "metadata": {},
   "outputs": [],
   "source": [
    "film_dir = 'dat'\n",
    "movie_data_file = 'movies.dat'\n",
    "rating_data_file = 'ratings.dat'\n",
    "user_data_file = 'users.dat'"
   ]
  },
  {
   "cell_type": "code",
   "execution_count": 3,
   "metadata": {},
   "outputs": [],
   "source": [
    "Ages = {1: \"under 18\", 18: \"18-24\", 25: \"25-34\", 35: \"35-44\", 45: \"45-49\", 50: \"50-55\", 56: \"56+\"}\n",
    "Occupations = {0: \"other or not specified\", 1: \"academic/educator\", 2: \"artist\", \n",
    "               3: \"clerical/admin\", 4: \"college/gead student\", 5: \"customer service\", \n",
    "               6: \"doctor/health care\", 7: \"executive/managerial\", 8: \"farmer\", \n",
    "               9: \"homemaker\", 10: \"K-12 student\", 11: \"lawyer\", 12: \"programmer\", \n",
    "               13: \"retired\", 14: \"sales/marketing\", 15: \"scientist\", 16: \"self-employed\", \n",
    "               17: \"technician/engineer\", 18: \"tradesman/craftsman\", 19: \"unemployed\", 20: \"writer\"}"
   ]
  },
  {
   "cell_type": "code",
   "execution_count": 4,
   "metadata": {},
   "outputs": [],
   "source": [
    "movies_csv_file = 'movies.csv' \n",
    "ratings_csv_file = 'ratings.csv'\n",
    "users_data_file = 'users.csv' "
   ]
  },
  {
   "cell_type": "code",
   "execution_count": 9,
   "metadata": {},
   "outputs": [
    {
     "data": {
      "text/html": [
       "<div>\n",
       "<style scoped>\n",
       "    .dataframe tbody tr th:only-of-type {\n",
       "        vertical-align: middle;\n",
       "    }\n",
       "\n",
       "    .dataframe tbody tr th {\n",
       "        vertical-align: top;\n",
       "    }\n",
       "\n",
       "    .dataframe thead th {\n",
       "        text-align: right;\n",
       "    }\n",
       "</style>\n",
       "<table border=\"1\" class=\"dataframe\">\n",
       "  <thead>\n",
       "    <tr style=\"text-align: right;\">\n",
       "      <th></th>\n",
       "      <th>1::Toy Story (1995)::Animation|Children's|Comedy</th>\n",
       "    </tr>\n",
       "  </thead>\n",
       "  <tbody>\n",
       "    <tr>\n",
       "      <td>0</td>\n",
       "      <td>2::Jumanji (1995)::Adventure|Children's|Fantasy</td>\n",
       "    </tr>\n",
       "    <tr>\n",
       "      <td>1</td>\n",
       "      <td>3::Grumpier Old Men (1995)::Comedy|Romance</td>\n",
       "    </tr>\n",
       "    <tr>\n",
       "      <td>2</td>\n",
       "      <td>4::Waiting to Exhale (1995)::Comedy|Drama</td>\n",
       "    </tr>\n",
       "    <tr>\n",
       "      <td>3</td>\n",
       "      <td>5::Father of the Bride Part II (1995)::Comedy</td>\n",
       "    </tr>\n",
       "    <tr>\n",
       "      <td>4</td>\n",
       "      <td>6::Heat (1995)::Action|Crime|Thriller</td>\n",
       "    </tr>\n",
       "    <tr>\n",
       "      <td>...</td>\n",
       "      <td>...</td>\n",
       "    </tr>\n",
       "    <tr>\n",
       "      <td>3877</td>\n",
       "      <td>3948::Meet the Parents (2000)::Comedy</td>\n",
       "    </tr>\n",
       "    <tr>\n",
       "      <td>3878</td>\n",
       "      <td>3949::Requiem for a Dream (2000)::Drama</td>\n",
       "    </tr>\n",
       "    <tr>\n",
       "      <td>3879</td>\n",
       "      <td>3950::Tigerland (2000)::Drama</td>\n",
       "    </tr>\n",
       "    <tr>\n",
       "      <td>3880</td>\n",
       "      <td>3951::Two Family House (2000)::Drama</td>\n",
       "    </tr>\n",
       "    <tr>\n",
       "      <td>3881</td>\n",
       "      <td>3952::Contender, The (2000)::Drama|Thriller</td>\n",
       "    </tr>\n",
       "  </tbody>\n",
       "</table>\n",
       "<p>3882 rows × 1 columns</p>\n",
       "</div>"
      ],
      "text/plain": [
       "     1::Toy Story (1995)::Animation|Children's|Comedy\n",
       "0     2::Jumanji (1995)::Adventure|Children's|Fantasy\n",
       "1          3::Grumpier Old Men (1995)::Comedy|Romance\n",
       "2           4::Waiting to Exhale (1995)::Comedy|Drama\n",
       "3       5::Father of the Bride Part II (1995)::Comedy\n",
       "4               6::Heat (1995)::Action|Crime|Thriller\n",
       "...                                               ...\n",
       "3877            3948::Meet the Parents (2000)::Comedy\n",
       "3878          3949::Requiem for a Dream (2000)::Drama\n",
       "3879                    3950::Tigerland (2000)::Drama\n",
       "3880             3951::Two Family House (2000)::Drama\n",
       "3881      3952::Contender, The (2000)::Drama|Thriller\n",
       "\n",
       "[3882 rows x 1 columns]"
      ]
     },
     "execution_count": 9,
     "metadata": {},
     "output_type": "execute_result"
    }
   ],
   "source": [
    "df = pd.read_table('dat/movies.dat', encoding = 'latin-1') \n",
    "# df.to_excel('dat/movies.csv', encoding = 'latin-1') \n",
    "df"
   ]
  },
  {
   "cell_type": "code",
   "execution_count": null,
   "metadata": {},
   "outputs": [],
   "source": []
  }
 ],
 "metadata": {
  "kernelspec": {
   "display_name": "Python 3",
   "language": "python",
   "name": "python3"
  },
  "language_info": {
   "codemirror_mode": {
    "name": "ipython",
    "version": 3
   },
   "file_extension": ".py",
   "mimetype": "text/x-python",
   "name": "python",
   "nbconvert_exporter": "python",
   "pygments_lexer": "ipython3",
   "version": "3.7.4"
  }
 },
 "nbformat": 4,
 "nbformat_minor": 2
}
