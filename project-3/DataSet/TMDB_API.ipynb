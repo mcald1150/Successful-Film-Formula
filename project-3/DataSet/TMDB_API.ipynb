{
 "cells": [
  {
   "cell_type": "code",
   "execution_count": 1,
   "metadata": {},
   "outputs": [],
   "source": [
    "import requests"
   ]
  },
  {
   "cell_type": "code",
   "execution_count": 11,
   "metadata": {},
   "outputs": [
    {
     "data": {
      "text/plain": [
       "{'adult': False,\n",
       " 'backdrop_path': '/3EqYpbGCE9S5GddU2K4cYzP5UmI.jpg',\n",
       " 'belongs_to_collection': None,\n",
       " 'budget': 4000000,\n",
       " 'genres': [{'id': 80, 'name': 'Crime'}, {'id': 35, 'name': 'Comedy'}],\n",
       " 'homepage': '',\n",
       " 'id': 5,\n",
       " 'imdb_id': 'tt0113101',\n",
       " 'original_language': 'en',\n",
       " 'original_title': 'Four Rooms',\n",
       " 'overview': \"It's Ted the Bellhop's first night on the job...and the hotel's very unusual guests are about to place him in some outrageous predicaments. It seems that this evening's room service is serving up one unbelievable happening after another.\",\n",
       " 'popularity': 14.528,\n",
       " 'poster_path': '/eQs5hh9rxrk1m4xHsIz1w11Ngqb.jpg',\n",
       " 'production_companies': [{'id': 14,\n",
       "   'logo_path': '/m6AHu84oZQxvq7n1rsvMNJIAsMu.png',\n",
       "   'name': 'Miramax',\n",
       "   'origin_country': 'US'},\n",
       "  {'id': 59,\n",
       "   'logo_path': '/yH7OMeSxhfP0AVM6iT0rsF3F4ZC.png',\n",
       "   'name': 'A Band Apart',\n",
       "   'origin_country': 'US'}],\n",
       " 'production_countries': [{'iso_3166_1': 'US',\n",
       "   'name': 'United States of America'}],\n",
       " 'release_date': '1995-12-09',\n",
       " 'revenue': 4257354,\n",
       " 'runtime': 98,\n",
       " 'spoken_languages': [{'iso_639_1': 'en', 'name': 'English'}],\n",
       " 'status': 'Released',\n",
       " 'tagline': \"Twelve outrageous guests. Four scandalous requests. And one lone bellhop, in his first day on the job, who's in for the wildest New year's Eve of his life.\",\n",
       " 'title': 'Four Rooms',\n",
       " 'video': False,\n",
       " 'vote_average': 6.0,\n",
       " 'vote_count': 1394}"
      ]
     },
     "execution_count": 11,
     "metadata": {},
     "output_type": "execute_result"
    }
   ],
   "source": [
    "URL = 'https://api.themoviedb.org/3/movie/5?api_key=13acfef69c08240c85c92b1965b1eaf3'\n",
    "r = requests.get(URL)\n",
    "json_file = r.json()\n",
    "json_file"
   ]
  },
  {
   "cell_type": "code",
   "execution_count": null,
   "metadata": {},
   "outputs": [],
   "source": []
  }
 ],
 "metadata": {
  "kernelspec": {
   "display_name": "Python 3",
   "language": "python",
   "name": "python3"
  },
  "language_info": {
   "codemirror_mode": {
    "name": "ipython",
    "version": 3
   },
   "file_extension": ".py",
   "mimetype": "text/x-python",
   "name": "python",
   "nbconvert_exporter": "python",
   "pygments_lexer": "ipython3",
   "version": "3.7.4"
  }
 },
 "nbformat": 4,
 "nbformat_minor": 2
}
